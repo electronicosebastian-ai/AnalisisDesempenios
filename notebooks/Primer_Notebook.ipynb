{
 "cells": [
  {
   "cell_type": "code",
   "execution_count": 12,
   "id": "f0047f73-0e74-4ac2-a46b-bcf876b86c41",
   "metadata": {},
   "outputs": [
    {
     "name": "stdout",
     "output_type": "stream",
     "text": [
      "<class 'pandas.core.frame.DataFrame'>\n",
      "RangeIndex: 1115 entries, 0 to 1114\n",
      "Data columns (total 10 columns):\n",
      " #   Column                     Non-Null Count  Dtype  \n",
      "---  ------                     --------------  -----  \n",
      " 0   Store                      1115 non-null   int64  \n",
      " 1   StoreType                  1115 non-null   object \n",
      " 2   Assortment                 1115 non-null   object \n",
      " 3   CompetitionDistance        1112 non-null   float64\n",
      " 4   CompetitionOpenSinceMonth  761 non-null    float64\n",
      " 5   CompetitionOpenSinceYear   761 non-null    float64\n",
      " 6   Promo2                     1115 non-null   int64  \n",
      " 7   Promo2SinceWeek            571 non-null    float64\n",
      " 8   Promo2SinceYear            571 non-null    float64\n",
      " 9   PromoInterval              571 non-null    object \n",
      "dtypes: float64(5), int64(2), object(3)\n",
      "memory usage: 87.2+ KB\n"
     ]
    },
    {
     "data": {
      "text/plain": [
       "Store                          0\n",
       "StoreType                      0\n",
       "Assortment                     0\n",
       "CompetitionDistance            3\n",
       "CompetitionOpenSinceMonth    354\n",
       "CompetitionOpenSinceYear     354\n",
       "Promo2                         0\n",
       "Promo2SinceWeek              544\n",
       "Promo2SinceYear              544\n",
       "PromoInterval                544\n",
       "dtype: int64"
      ]
     },
     "execution_count": 12,
     "metadata": {},
     "output_type": "execute_result"
    }
   ],
   "source": [
    "import pandas as pd\n",
    "\n",
    "# Ruta al CSV descargado\n",
    "ruta_csv = r\"C:\\Users\\sebas\\OneDrive\\Escritorio\\Eficacia, aplicacion\\Analisis de Desempeños de Campañas Trade Marketing\\rossmann-store-sales\\store.csv\"\n",
    "\n",
    "\n",
    "# Cargar CSV en DataFrame\n",
    "df_original = pd.read_csv(ruta_csv)\n",
    "\n",
    "# Crear copia para trabajar\n",
    "df = df_original.copy()\n",
    "\n",
    "# Revisar las primeras filas\n",
    "df.head()\n",
    "\n",
    "# Revisar información general y tipos de datos\n",
    "df.info()\n",
    "\n",
    "# Revisar nulos por columna\n",
    "df.isnull().sum()"
   ]
  },
  {
   "cell_type": "code",
   "execution_count": 13,
   "id": "fb0169ee-cfc4-48ce-aebc-d724f5468844",
   "metadata": {},
   "outputs": [
    {
     "name": "stdout",
     "output_type": "stream",
     "text": [
      "   store_id store_category product_type  competition_distance  \\\n",
      "0         1              c            a                1270.0   \n",
      "1         2              a            a                 570.0   \n",
      "2         3              a            a               14130.0   \n",
      "3         4              c            c                 620.0   \n",
      "4         5              a            a               29910.0   \n",
      "\n",
      "   competition_open_month  competition_open_year  promo_active  \\\n",
      "0                     9.0                 2008.0             0   \n",
      "1                    11.0                 2007.0             1   \n",
      "2                    12.0                 2006.0             1   \n",
      "3                     9.0                 2009.0             0   \n",
      "4                     4.0                 2015.0             0   \n",
      "\n",
      "   promo_start_week  promo_start_year   promo_interval competition_open_since  \n",
      "0               NaN               NaN              NaN                    NaT  \n",
      "1              13.0            2010.0  Jan,Apr,Jul,Oct                    NaT  \n",
      "2              14.0            2011.0  Jan,Apr,Jul,Oct                    NaT  \n",
      "3               NaN               NaN              NaN                    NaT  \n",
      "4               NaN               NaN              NaN                    NaT  \n",
      "store_id                           int64\n",
      "store_category                    object\n",
      "product_type                      object\n",
      "competition_distance             float64\n",
      "competition_open_month           float64\n",
      "competition_open_year            float64\n",
      "promo_active                       int64\n",
      "promo_start_week                 float64\n",
      "promo_start_year                 float64\n",
      "promo_interval                    object\n",
      "competition_open_since    datetime64[ns]\n",
      "dtype: object\n"
     ]
    }
   ],
   "source": [
    "# Crear diccionario de mapeo\n",
    "col_map = {\n",
    "    \"Store\": \"store_id\",\n",
    "    \"StoreType\": \"store_category\",\n",
    "    \"Assortment\": \"product_type\",\n",
    "    \"CompetitionDistance\": \"competition_distance\",\n",
    "    \"CompetitionOpenSinceMonth\": \"competition_open_month\",\n",
    "    \"CompetitionOpenSinceYear\": \"competition_open_year\",\n",
    "    \"Promo2\": \"promo_active\",\n",
    "    \"Promo2SinceWeek\": \"promo_start_week\",\n",
    "    \"Promo2SinceYear\": \"promo_start_year\",\n",
    "    \"PromoInterval\": \"promo_interval\"\n",
    "}\n",
    "\n",
    "# Renombrar columnas\n",
    "df = df.rename(columns=col_map)\n",
    "\n",
    "# Combinar CompetitionOpenSinceMonth y Year en fecha\n",
    "def build_competition_date(row):\n",
    "    try:\n",
    "        if not pd.isna(row['competition_open_year']) and not pd.isna(row['competition_open_month']):\n",
    "            return datetime(int(row['competition_open_year']), int(row['competition_open_month']), 1)\n",
    "    except:\n",
    "        return pd.NaT\n",
    "    return pd.NaT\n",
    "\n",
    "df['competition_open_since'] = df.apply(build_competition_date, axis=1)\n",
    "\n",
    "# Verificar cambios y tipos de datos\n",
    "print(df.head())\n",
    "print(df.dtypes)"
   ]
  },
  {
   "cell_type": "code",
   "execution_count": null,
   "id": "0048783d-d412-44ef-9dbd-6ecb2a5fd5b4",
   "metadata": {},
   "outputs": [],
   "source": []
  }
 ],
 "metadata": {
  "kernelspec": {
   "display_name": "Python 3 (ipykernel)",
   "language": "python",
   "name": "python3"
  },
  "language_info": {
   "codemirror_mode": {
    "name": "ipython",
    "version": 3
   },
   "file_extension": ".py",
   "mimetype": "text/x-python",
   "name": "python",
   "nbconvert_exporter": "python",
   "pygments_lexer": "ipython3",
   "version": "3.12.4"
  }
 },
 "nbformat": 4,
 "nbformat_minor": 5
}
